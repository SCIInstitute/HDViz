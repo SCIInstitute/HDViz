{
 "cells": [
  {
   "cell_type": "code",
   "execution_count": 6,
   "metadata": {},
   "outputs": [],
   "source": [
    "import sys\n",
    "import os\n",
    "import glob"
   ]
  },
  {
   "cell_type": "code",
   "execution_count": 40,
   "metadata": {},
   "outputs": [
    {
     "data": {
      "text/plain": [
       "<module 'convert.binarize' from '/Users/cam/code/dSpaceX/data/convert/binarize.py'>"
      ]
     },
     "execution_count": 40,
     "metadata": {},
     "output_type": "execute_result"
    }
   ],
   "source": [
    "from importlib import reload\n",
    "import convert\n",
    "reload(convert.binarize)"
   ]
  },
  {
   "cell_type": "code",
   "execution_count": 45,
   "metadata": {},
   "outputs": [],
   "source": [
    "basepath = \"/Users/cam/data/dSpaceX/latest/\"\n",
    "#datasets = [\"CantileverBeam-1\", \"ellipses\", \"CantileverBeam-2\"]\n",
    "#datasets = [\"ellipses\", \"CantileverBeam-2\"]   # error binarizing models, but finished cb1, so omitting it now\n",
    "#datasets = [\"CantileverBeam-1\"] # it was this one's shapeodds model, so moved the completed one and trying again\n",
    "datasets = [\"LBracket\"]  #oops, forgot this one"
   ]
  },
  {
   "cell_type": "code",
   "execution_count": 46,
   "metadata": {},
   "outputs": [
    {
     "name": "stdout",
     "output_type": "stream",
     "text": [
      "converting /Users/cam/data/dSpaceX/latest/LBracket/processed_data/L Bracket_distance.csv...\n",
      "/Users/cam/data/dSpaceX/latest/LBracket/processed_data/L Bracket_distance.csv to /Users/cam/data/dSpaceX/latest/LBracket/processed_data/L Bracket_distance.bin(shape: (1000, 1000))\n"
     ]
    }
   ],
   "source": [
    "#convert distance matrices\n",
    "for dataset in datasets:\n",
    "    distance_csv = glob.glob(basepath + dataset + \"/processed_data/*distance.csv\")[0]\n",
    "    print(\"converting \" + distance_csv + \"...\")\n",
    "    binarize_distance_matrix(distance_csv)"
   ]
  },
  {
   "cell_type": "code",
   "execution_count": 48,
   "metadata": {},
   "outputs": [
    {
     "name": "stdout",
     "output_type": "stream",
     "text": [
      "binarizing /Users/cam/data/dSpaceX/latest/LBracket/processed_data/ms_partitions/max_stress_pca_model...\n",
      "Model binarization 99.90 percent complete (0:01:02.174504 elapsed). Converting file 981 of 982. \n",
      "done!\n"
     ]
    }
   ],
   "source": [
    "#convert models\n",
    "for dataset in datasets:\n",
    "    models = glob.glob(basepath + dataset + \"/processed_data/ms_partitions/*model*\")\n",
    "    for model in models:\n",
    "        print(\"binarizing \" + model + \"...\")\n",
    "        convert.binarize.binarize_models(model)"
   ]
  },
  {
   "cell_type": "code",
   "execution_count": 49,
   "metadata": {},
   "outputs": [],
   "source": [
    "### Output\n",
    "# binarizing /Users/cam/data/dSpaceX/latest/CantileverBeam-1/processed_data/ms_partitions/max_stress_pca_model...\n",
    "# Model binarization 99.91 percent complete (0:01:01.055148 elapsed). Converting file 1122 of 1123. \n",
    "# done!\n",
    "# binarizing /Users/cam/data/dSpaceX/latest/ellipses/processed_data/ms_partitions/area_pca_model...\n",
    "# Model binarization 90.00 percent complete (0:00:00.163518 elapsed). Converting file 9 of 10. \n",
    "# done!\n",
    "# binarizing /Users/cam/data/dSpaceX/latest/CantileverBeam-2/processed_data/ms_partitions/compliance_pca_model...\n",
    "# Model binarization 75.00 percent complete (0:00:02.787487 elapsed). Converting file 3 of 4. \n",
    "# done!\n",
    "# binarizing /Users/cam/data/dSpaceX/latest/LBracket/processed_data/ms_partitions/max_stress_pca_model...\n",
    "# Model binarization 99.90 percent complete (0:01:02.174504 elapsed). Converting file 981 of 982. \n",
    "# done!\n",
    "\n",
    "# shapeodds had some issues with empty files, so here are the results to know which ones:\n",
    "# binarizing /Users/cam/data/dSpaceX/latest/CantileverBeam-1/processed_data/ms_partitions/shapeodds_models_maxStress...\n",
    "# exception trying to read /Users/cam/data/dSpaceX/latest/CantileverBeam-1/processed_data/ms_partitions/shapeodds_models_maxStress/persistence-4/crystal-9/W.csv. Skipping.\n",
    "# exception trying to read /Users/cam/data/dSpaceX/latest/CantileverBeam-1/processed_data/ms_partitions/shapeodds_models_maxStress/persistence-4/crystal-9/Z.csv. Skipping.\n",
    "# exception trying to read /Users/cam/data/dSpaceX/latest/CantileverBeam-1/processed_data/ms_partitions/shapeodds_models_maxStress/persistence-4/crystal-20/W.csv. Skipping.\n",
    "# exception trying to read /Users/cam/data/dSpaceX/latest/CantileverBeam-1/processed_data/ms_partitions/shapeodds_models_maxStress/persistence-4/crystal-20/Z.csv. Skipping.\n",
    "# exception trying to read /Users/cam/data/dSpaceX/latest/CantileverBeam-1/processed_data/ms_partitions/shapeodds_models_maxStress/persistence-3/shapeodds_global_embedding.csv. Skipping.\n",
    "# exception trying to read /Users/cam/data/dSpaceX/latest/CantileverBeam-1/processed_data/ms_partitions/shapeodds_models_maxStress/persistence-3/crystal-23/W.csv. Skipping.\n",
    "# exception trying to read /Users/cam/data/dSpaceX/latest/CantileverBeam-1/processed_data/ms_partitions/shapeodds_models_maxStress/persistence-3/crystal-23/Z.csv. Skipping.\n",
    "# exception trying to read /Users/cam/data/dSpaceX/latest/CantileverBeam-1/processed_data/ms_partitions/shapeodds_models_maxStress/persistence-3/crystal-12/W.csv. Skipping.\n",
    "# exception trying to read /Users/cam/data/dSpaceX/latest/CantileverBeam-1/processed_data/ms_partitions/shapeodds_models_maxStress/persistence-3/crystal-12/Z.csv. Skipping.\n",
    "# exception trying to read /Users/cam/data/dSpaceX/latest/CantileverBeam-1/processed_data/ms_partitions/shapeodds_models_maxStress/persistence-2/crystal-24/W.csv. Skipping.\n",
    "# exception trying to read /Users/cam/data/dSpaceX/latest/CantileverBeam-1/processed_data/ms_partitions/shapeodds_models_maxStress/persistence-2/crystal-24/Z.csv. Skipping.\n",
    "# exception trying to read /Users/cam/data/dSpaceX/latest/CantileverBeam-1/processed_data/ms_partitions/shapeodds_models_maxStress/persistence-2/crystal-12/W.csv. Skipping.\n",
    "# exception trying to read /Users/cam/data/dSpaceX/latest/CantileverBeam-1/processed_data/ms_partitions/shapeodds_models_maxStress/persistence-2/crystal-12/Z.csv. Skipping.\n",
    "# exception trying to read /Users/cam/data/dSpaceX/latest/CantileverBeam-1/processed_data/ms_partitions/shapeodds_models_maxStress/persistence-5/crystal-9/W.csv. Skipping.\n",
    "# exception trying to read /Users/cam/data/dSpaceX/latest/CantileverBeam-1/processed_data/ms_partitions/shapeodds_models_maxStress/persistence-5/crystal-9/Z.csv. Skipping.\n",
    "# exception trying to read /Users/cam/data/dSpaceX/latest/CantileverBeam-1/processed_data/ms_partitions/shapeodds_models_maxStress/persistence-5/crystal-18/W.csv. Skipping.\n",
    "# exception trying to read /Users/cam/data/dSpaceX/latest/CantileverBeam-1/processed_data/ms_partitions/shapeodds_models_maxStress/persistence-5/crystal-18/Z.csv. Skipping.\n",
    "# exception trying to read /Users/cam/data/dSpaceX/latest/CantileverBeam-1/processed_data/ms_partitions/shapeodds_models_maxStress/persistence-0/crystal-12/W.csv. Skipping.\n",
    "# exception trying to read /Users/cam/data/dSpaceX/latest/CantileverBeam-1/processed_data/ms_partitions/shapeodds_models_maxStress/persistence-0/crystal-12/Z.csv. Skipping.\n",
    "# exception trying to read /Users/cam/data/dSpaceX/latest/CantileverBeam-1/processed_data/ms_partitions/shapeodds_models_maxStress/persistence-0/crystal-25/W.csv. Skipping.\n",
    "# exception trying to read /Users/cam/data/dSpaceX/latest/CantileverBeam-1/processed_data/ms_partitions/shapeodds_models_maxStress/persistence-0/crystal-25/Z.csv. Skipping.\n",
    "# exception trying to read /Users/cam/data/dSpaceX/latest/CantileverBeam-1/processed_data/ms_partitions/shapeodds_models_maxStress/persistence-7/crystal-9/W.csv. Skipping.\n",
    "# exception trying to read /Users/cam/data/dSpaceX/latest/CantileverBeam-1/processed_data/ms_partitions/shapeodds_models_maxStress/persistence-7/crystal-9/Z.csv. Skipping.\n",
    "# exception trying to read /Users/cam/data/dSpaceX/latest/CantileverBeam-1/processed_data/ms_partitions/shapeodds_models_maxStress/persistence-8/crystal-8/W.csv. Skipping.\n",
    "# exception trying to read /Users/cam/data/dSpaceX/latest/CantileverBeam-1/processed_data/ms_partitions/shapeodds_models_maxStress/persistence-8/crystal-8/Z.csv. Skipping.\n",
    "# exception trying to read /Users/cam/data/dSpaceX/latest/CantileverBeam-1/processed_data/ms_partitions/shapeodds_models_maxStress/persistence-6/crystal-9/W.csv. Skipping.\n",
    "# exception trying to read /Users/cam/data/dSpaceX/latest/CantileverBeam-1/processed_data/ms_partitions/shapeodds_models_maxStress/persistence-6/crystal-9/Z.csv. Skipping.\n",
    "# exception trying to read /Users/cam/data/dSpaceX/latest/CantileverBeam-1/processed_data/ms_partitions/shapeodds_models_maxStress/persistence-1/crystal-12/W.csv. Skipping.\n",
    "# exception trying to read /Users/cam/data/dSpaceX/latest/CantileverBeam-1/processed_data/ms_partitions/shapeodds_models_maxStress/persistence-1/crystal-12/Z.csv. Skipping.\n",
    "# exception trying to read /Users/cam/data/dSpaceX/latest/CantileverBeam-1/processed_data/ms_partitions/shapeodds_models_maxStress/persistence-1/crystal-25/W.csv. Skipping.\n",
    "# exception trying to read /Users/cam/data/dSpaceX/latest/CantileverBeam-1/processed_data/ms_partitions/shapeodds_models_maxStress/persistence-1/crystal-25/Z.csv. Skipping.\n",
    "# Model binarization 99.93 percent complete (0:00:16.841273 elapsed). Converting file 1536 of 1537. \n",
    "# done!"
   ]
  },
  {
   "cell_type": "code",
   "execution_count": null,
   "metadata": {},
   "outputs": [],
   "source": []
  },
  {
   "cell_type": "code",
   "execution_count": null,
   "metadata": {},
   "outputs": [],
   "source": []
  },
  {
   "cell_type": "code",
   "execution_count": null,
   "metadata": {},
   "outputs": [],
   "source": []
  },
  {
   "cell_type": "code",
   "execution_count": null,
   "metadata": {},
   "outputs": [],
   "source": []
  },
  {
   "cell_type": "code",
   "execution_count": null,
   "metadata": {},
   "outputs": [],
   "source": []
  },
  {
   "cell_type": "code",
   "execution_count": null,
   "metadata": {},
   "outputs": [],
   "source": []
  },
  {
   "cell_type": "code",
   "execution_count": null,
   "metadata": {},
   "outputs": [],
   "source": []
  },
  {
   "cell_type": "code",
   "execution_count": null,
   "metadata": {},
   "outputs": [],
   "source": []
  }
 ],
 "metadata": {
  "kernelspec": {
   "display_name": "Python 3",
   "language": "python",
   "name": "python3"
  },
  "language_info": {
   "codemirror_mode": {
    "name": "ipython",
    "version": 3
   },
   "file_extension": ".py",
   "mimetype": "text/x-python",
   "name": "python",
   "nbconvert_exporter": "python",
   "pygments_lexer": "ipython3",
   "version": "3.7.8"
  }
 },
 "nbformat": 4,
 "nbformat_minor": 4
}
